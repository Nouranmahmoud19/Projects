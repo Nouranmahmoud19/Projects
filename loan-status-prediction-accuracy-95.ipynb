{
 "cells": [
  {
   "cell_type": "markdown",
   "id": "4d049a71",
   "metadata": {
    "papermill": {
     "duration": 0.009209,
     "end_time": "2024-10-06T11:14:58.705981",
     "exception": false,
     "start_time": "2024-10-06T11:14:58.696772",
     "status": "completed"
    },
    "tags": []
   },
   "source": [
    "**IMPORT LIBARIRIES**"
   ]
  },
  {
   "cell_type": "code",
   "execution_count": 1,
   "id": "9d1012d2",
   "metadata": {
    "_cell_guid": "b1076dfc-b9ad-4769-8c92-a6c4dae69d19",
    "_uuid": "8f2839f25d086af736a60e9eeb907d3b93b6e0e5",
    "execution": {
     "iopub.execute_input": "2024-10-06T11:14:58.724244Z",
     "iopub.status.busy": "2024-10-06T11:14:58.723929Z",
     "iopub.status.idle": "2024-10-06T11:15:01.592891Z",
     "shell.execute_reply": "2024-10-06T11:15:01.592108Z"
    },
    "papermill": {
     "duration": 2.88062,
     "end_time": "2024-10-06T11:15:01.595119",
     "exception": false,
     "start_time": "2024-10-06T11:14:58.714499",
     "status": "completed"
    },
    "tags": []
   },
   "outputs": [],
   "source": [
    "import pandas as pd\n",
    "import numpy as np\n",
    "import matplotlib.pyplot as plt\n",
    "import seaborn as sns\n",
    "\n",
    "#for preprocessing\n",
    "from sklearn.preprocessing import OneHotEncoder, StandardScaler, OrdinalEncoder,LabelEncoder\n",
    "from sklearn.compose import ColumnTransformer\n",
    "from sklearn.model_selection import train_test_split\n",
    "\n",
    "#for evaluation\n",
    "from sklearn.metrics import mean_squared_error, mean_absolute_error, r2_score\n",
    "from sklearn.metrics import accuracy_score, precision_score, recall_score, f1_score\n",
    "#models\n",
    "from sklearn.linear_model import LinearRegression\n",
    "from sklearn.neighbors import KNeighborsRegressor\n",
    "from sklearn.tree import DecisionTreeRegressor\n",
    "from sklearn.ensemble import RandomForestRegressor\n",
    "from sklearn.ensemble import RandomForestClassifier\n",
    "\n",
    "from xgboost import XGBRegressor\n",
    "from sklearn.svm import SVC\n",
    "from sklearn.metrics import accuracy_score\n",
    "from sklearn.model_selection import GridSearchCV\n",
    "from sklearn.metrics import confusion_matrix, accuracy_score, classification_report\n",
    "\n",
    "\n",
    "from sklearn.preprocessing import StandardScaler\n",
    "from sklearn.decomposition import PCA\n",
    "from yellowbrick.cluster import KElbowVisualizer, silhouette_visualizer\n",
    "from sklearn.metrics import silhouette_score\n",
    "from sklearn.cluster import KMeans\n",
    "import warnings\n",
    "warnings.filterwarnings(\"ignore\")"
   ]
  },
  {
   "cell_type": "markdown",
   "id": "b678a45b",
   "metadata": {
    "papermill": {
     "duration": 0.009012,
     "end_time": "2024-10-06T11:15:01.612640",
     "exception": false,
     "start_time": "2024-10-06T11:15:01.603628",
     "status": "completed"
    },
    "tags": []
   },
   "source": [
    "**READ DATA**"
   ]
  },
  {
   "cell_type": "code",
   "execution_count": 2,
   "id": "06ae92f2",
   "metadata": {
    "execution": {
     "iopub.execute_input": "2024-10-06T11:15:01.630567Z",
     "iopub.status.busy": "2024-10-06T11:15:01.629891Z",
     "iopub.status.idle": "2024-10-06T11:15:01.852173Z",
     "shell.execute_reply": "2024-10-06T11:15:01.851343Z"
    },
    "papermill": {
     "duration": 0.233815,
     "end_time": "2024-10-06T11:15:01.854653",
     "exception": false,
     "start_time": "2024-10-06T11:15:01.620838",
     "status": "completed"
    },
    "tags": []
   },
   "outputs": [],
   "source": [
    "train_data=pd.read_csv(r'/kaggle/input/playground-series-s4e10/train.csv')\n",
    "test_data=pd.read_csv(r'/kaggle/input/playground-series-s4e10/test.csv')\n"
   ]
  },
  {
   "cell_type": "code",
   "execution_count": 3,
   "id": "918a5512",
   "metadata": {
    "execution": {
     "iopub.execute_input": "2024-10-06T11:15:01.874729Z",
     "iopub.status.busy": "2024-10-06T11:15:01.874412Z",
     "iopub.status.idle": "2024-10-06T11:15:01.898413Z",
     "shell.execute_reply": "2024-10-06T11:15:01.897463Z"
    },
    "papermill": {
     "duration": 0.035919,
     "end_time": "2024-10-06T11:15:01.900317",
     "exception": false,
     "start_time": "2024-10-06T11:15:01.864398",
     "status": "completed"
    },
    "tags": []
   },
   "outputs": [
    {
     "data": {
      "text/html": [
       "<div>\n",
       "<style scoped>\n",
       "    .dataframe tbody tr th:only-of-type {\n",
       "        vertical-align: middle;\n",
       "    }\n",
       "\n",
       "    .dataframe tbody tr th {\n",
       "        vertical-align: top;\n",
       "    }\n",
       "\n",
       "    .dataframe thead th {\n",
       "        text-align: right;\n",
       "    }\n",
       "</style>\n",
       "<table border=\"1\" class=\"dataframe\">\n",
       "  <thead>\n",
       "    <tr style=\"text-align: right;\">\n",
       "      <th></th>\n",
       "      <th>id</th>\n",
       "      <th>person_age</th>\n",
       "      <th>person_income</th>\n",
       "      <th>person_home_ownership</th>\n",
       "      <th>person_emp_length</th>\n",
       "      <th>loan_intent</th>\n",
       "      <th>loan_grade</th>\n",
       "      <th>loan_amnt</th>\n",
       "      <th>loan_int_rate</th>\n",
       "      <th>loan_percent_income</th>\n",
       "      <th>cb_person_default_on_file</th>\n",
       "      <th>cb_person_cred_hist_length</th>\n",
       "      <th>loan_status</th>\n",
       "    </tr>\n",
       "  </thead>\n",
       "  <tbody>\n",
       "    <tr>\n",
       "      <th>0</th>\n",
       "      <td>0</td>\n",
       "      <td>37</td>\n",
       "      <td>35000</td>\n",
       "      <td>RENT</td>\n",
       "      <td>0.0</td>\n",
       "      <td>EDUCATION</td>\n",
       "      <td>B</td>\n",
       "      <td>6000</td>\n",
       "      <td>11.49</td>\n",
       "      <td>0.17</td>\n",
       "      <td>N</td>\n",
       "      <td>14</td>\n",
       "      <td>0</td>\n",
       "    </tr>\n",
       "    <tr>\n",
       "      <th>1</th>\n",
       "      <td>1</td>\n",
       "      <td>22</td>\n",
       "      <td>56000</td>\n",
       "      <td>OWN</td>\n",
       "      <td>6.0</td>\n",
       "      <td>MEDICAL</td>\n",
       "      <td>C</td>\n",
       "      <td>4000</td>\n",
       "      <td>13.35</td>\n",
       "      <td>0.07</td>\n",
       "      <td>N</td>\n",
       "      <td>2</td>\n",
       "      <td>0</td>\n",
       "    </tr>\n",
       "    <tr>\n",
       "      <th>2</th>\n",
       "      <td>2</td>\n",
       "      <td>29</td>\n",
       "      <td>28800</td>\n",
       "      <td>OWN</td>\n",
       "      <td>8.0</td>\n",
       "      <td>PERSONAL</td>\n",
       "      <td>A</td>\n",
       "      <td>6000</td>\n",
       "      <td>8.90</td>\n",
       "      <td>0.21</td>\n",
       "      <td>N</td>\n",
       "      <td>10</td>\n",
       "      <td>0</td>\n",
       "    </tr>\n",
       "    <tr>\n",
       "      <th>3</th>\n",
       "      <td>3</td>\n",
       "      <td>30</td>\n",
       "      <td>70000</td>\n",
       "      <td>RENT</td>\n",
       "      <td>14.0</td>\n",
       "      <td>VENTURE</td>\n",
       "      <td>B</td>\n",
       "      <td>12000</td>\n",
       "      <td>11.11</td>\n",
       "      <td>0.17</td>\n",
       "      <td>N</td>\n",
       "      <td>5</td>\n",
       "      <td>0</td>\n",
       "    </tr>\n",
       "    <tr>\n",
       "      <th>4</th>\n",
       "      <td>4</td>\n",
       "      <td>22</td>\n",
       "      <td>60000</td>\n",
       "      <td>RENT</td>\n",
       "      <td>2.0</td>\n",
       "      <td>MEDICAL</td>\n",
       "      <td>A</td>\n",
       "      <td>6000</td>\n",
       "      <td>6.92</td>\n",
       "      <td>0.10</td>\n",
       "      <td>N</td>\n",
       "      <td>3</td>\n",
       "      <td>0</td>\n",
       "    </tr>\n",
       "  </tbody>\n",
       "</table>\n",
       "</div>"
      ],
      "text/plain": [
       "   id  person_age  person_income person_home_ownership  person_emp_length  \\\n",
       "0   0          37          35000                  RENT                0.0   \n",
       "1   1          22          56000                   OWN                6.0   \n",
       "2   2          29          28800                   OWN                8.0   \n",
       "3   3          30          70000                  RENT               14.0   \n",
       "4   4          22          60000                  RENT                2.0   \n",
       "\n",
       "  loan_intent loan_grade  loan_amnt  loan_int_rate  loan_percent_income  \\\n",
       "0   EDUCATION          B       6000          11.49                 0.17   \n",
       "1     MEDICAL          C       4000          13.35                 0.07   \n",
       "2    PERSONAL          A       6000           8.90                 0.21   \n",
       "3     VENTURE          B      12000          11.11                 0.17   \n",
       "4     MEDICAL          A       6000           6.92                 0.10   \n",
       "\n",
       "  cb_person_default_on_file  cb_person_cred_hist_length  loan_status  \n",
       "0                         N                          14            0  \n",
       "1                         N                           2            0  \n",
       "2                         N                          10            0  \n",
       "3                         N                           5            0  \n",
       "4                         N                           3            0  "
      ]
     },
     "execution_count": 3,
     "metadata": {},
     "output_type": "execute_result"
    }
   ],
   "source": [
    "train_data.head()"
   ]
  },
  {
   "cell_type": "code",
   "execution_count": 4,
   "id": "057bd5b3",
   "metadata": {
    "execution": {
     "iopub.execute_input": "2024-10-06T11:15:01.918883Z",
     "iopub.status.busy": "2024-10-06T11:15:01.918532Z",
     "iopub.status.idle": "2024-10-06T11:15:01.961197Z",
     "shell.execute_reply": "2024-10-06T11:15:01.960156Z"
    },
    "papermill": {
     "duration": 0.053892,
     "end_time": "2024-10-06T11:15:01.963227",
     "exception": false,
     "start_time": "2024-10-06T11:15:01.909335",
     "status": "completed"
    },
    "tags": []
   },
   "outputs": [
    {
     "name": "stdout",
     "output_type": "stream",
     "text": [
      "<class 'pandas.core.frame.DataFrame'>\n",
      "RangeIndex: 58645 entries, 0 to 58644\n",
      "Data columns (total 13 columns):\n",
      " #   Column                      Non-Null Count  Dtype  \n",
      "---  ------                      --------------  -----  \n",
      " 0   id                          58645 non-null  int64  \n",
      " 1   person_age                  58645 non-null  int64  \n",
      " 2   person_income               58645 non-null  int64  \n",
      " 3   person_home_ownership       58645 non-null  object \n",
      " 4   person_emp_length           58645 non-null  float64\n",
      " 5   loan_intent                 58645 non-null  object \n",
      " 6   loan_grade                  58645 non-null  object \n",
      " 7   loan_amnt                   58645 non-null  int64  \n",
      " 8   loan_int_rate               58645 non-null  float64\n",
      " 9   loan_percent_income         58645 non-null  float64\n",
      " 10  cb_person_default_on_file   58645 non-null  object \n",
      " 11  cb_person_cred_hist_length  58645 non-null  int64  \n",
      " 12  loan_status                 58645 non-null  int64  \n",
      "dtypes: float64(3), int64(6), object(4)\n",
      "memory usage: 5.8+ MB\n"
     ]
    }
   ],
   "source": [
    "train_data.info()"
   ]
  },
  {
   "cell_type": "code",
   "execution_count": 5,
   "id": "f65fb2c8",
   "metadata": {
    "execution": {
     "iopub.execute_input": "2024-10-06T11:15:01.981816Z",
     "iopub.status.busy": "2024-10-06T11:15:01.981491Z",
     "iopub.status.idle": "2024-10-06T11:15:02.011920Z",
     "shell.execute_reply": "2024-10-06T11:15:02.011017Z"
    },
    "papermill": {
     "duration": 0.0418,
     "end_time": "2024-10-06T11:15:02.013726",
     "exception": false,
     "start_time": "2024-10-06T11:15:01.971926",
     "status": "completed"
    },
    "tags": []
   },
   "outputs": [
    {
     "data": {
      "text/plain": [
       "id                            0\n",
       "person_age                    0\n",
       "person_income                 0\n",
       "person_home_ownership         0\n",
       "person_emp_length             0\n",
       "loan_intent                   0\n",
       "loan_grade                    0\n",
       "loan_amnt                     0\n",
       "loan_int_rate                 0\n",
       "loan_percent_income           0\n",
       "cb_person_default_on_file     0\n",
       "cb_person_cred_hist_length    0\n",
       "loan_status                   0\n",
       "dtype: int64"
      ]
     },
     "execution_count": 5,
     "metadata": {},
     "output_type": "execute_result"
    }
   ],
   "source": [
    "train_data.isna().sum()"
   ]
  },
  {
   "cell_type": "code",
   "execution_count": 6,
   "id": "b0410a4e",
   "metadata": {
    "execution": {
     "iopub.execute_input": "2024-10-06T11:15:02.032384Z",
     "iopub.status.busy": "2024-10-06T11:15:02.032107Z",
     "iopub.status.idle": "2024-10-06T11:15:02.040332Z",
     "shell.execute_reply": "2024-10-06T11:15:02.039654Z"
    },
    "papermill": {
     "duration": 0.019753,
     "end_time": "2024-10-06T11:15:02.042228",
     "exception": false,
     "start_time": "2024-10-06T11:15:02.022475",
     "status": "completed"
    },
    "tags": []
   },
   "outputs": [],
   "source": [
    "train_data=train_data.drop('id',axis=1)"
   ]
  },
  {
   "cell_type": "markdown",
   "id": "c7f95130",
   "metadata": {
    "papermill": {
     "duration": 0.00973,
     "end_time": "2024-10-06T11:15:02.060744",
     "exception": false,
     "start_time": "2024-10-06T11:15:02.051014",
     "status": "completed"
    },
    "tags": []
   },
   "source": [
    "**VISUALIZATION**"
   ]
  },
  {
   "cell_type": "code",
   "execution_count": 7,
   "id": "1f626275",
   "metadata": {
    "execution": {
     "iopub.execute_input": "2024-10-06T11:15:02.079809Z",
     "iopub.status.busy": "2024-10-06T11:15:02.079514Z",
     "iopub.status.idle": "2024-10-06T11:15:06.070265Z",
     "shell.execute_reply": "2024-10-06T11:15:06.068418Z"
    },
    "papermill": {
     "duration": 4.002954,
     "end_time": "2024-10-06T11:15:06.072669",
     "exception": false,
     "start_time": "2024-10-06T11:15:02.069715",
     "status": "completed"
    },
    "tags": []
   },
   "outputs": [
    {
     "data": {
      "image/png": "[encoded data removed]",
      "text/plain": [
       "<Figure size 600x600 with 1 Axes>"
      ]
     },
     "metadata": {},
     "output_type": "display_data"
    },
    {
     "data": {
      "image/png": "[encoded data removed]",
      "text/plain": [
       "<Figure size 600x600 with 1 Axes>"
      ]
     },
     "metadata": {},
     "output_type": "display_data"
    },
    {
     "data": {
      "image/png": "[encoded data removed]",
      "text/plain": [
       "<Figure size 600x600 with 1 Axes>"
      ]
     },
     "metadata": {},
     "output_type": "display_data"
    },
    {
     "data": {
      "image/png": "[encoded data removed]",
      "text/plain": [
       "<Figure size 600x600 with 1 Axes>"
      ]
     },
     "metadata": {},
     "output_type": "display_data"
    },
    {
     "data": {
      "image/png": "[encoded data removed]",
      "text/plain": [
       "<Figure size 600x600 with 1 Axes>"
      ]
     },
     "metadata": {},
     "output_type": "display_data"
    }
   ],
   "source": [
    "for cols in train_data.select_dtypes(include='int64').columns:\n",
    "    plt.figure(figsize=(6,6))\n",
    "    sns.histplot(data=train_data,x=cols)\n",
    "    plt.title(f\"distribution of {cols}\")\n",
    "    plt.show()"
   ]
  },
  {
   "cell_type": "code",
   "execution_count": 8,
   "id": "ab411b1a",
   "metadata": {
    "execution": {
     "iopub.execute_input": "2024-10-06T11:15:06.096116Z",
     "iopub.status.busy": "2024-10-06T11:15:06.095799Z",
     "iopub.status.idle": "2024-10-06T11:15:06.109934Z",
     "shell.execute_reply": "2024-10-06T11:15:06.108931Z"
    },
    "papermill": {
     "duration": 0.027879,
     "end_time": "2024-10-06T11:15:06.111990",
     "exception": false,
     "start_time": "2024-10-06T11:15:06.084111",
     "status": "completed"
    },
    "tags": []
   },
   "outputs": [
    {
     "data": {
      "text/html": [
       "<div>\n",
       "<style scoped>\n",
       "    .dataframe tbody tr th:only-of-type {\n",
       "        vertical-align: middle;\n",
       "    }\n",
       "\n",
       "    .dataframe tbody tr th {\n",
       "        vertical-align: top;\n",
       "    }\n",
       "\n",
       "    .dataframe thead th {\n",
       "        text-align: right;\n",
       "    }\n",
       "</style>\n",
       "<table border=\"1\" class=\"dataframe\">\n",
       "  <thead>\n",
       "    <tr style=\"text-align: right;\">\n",
       "      <th></th>\n",
       "      <th>person_home_ownership</th>\n",
       "      <th>loan_intent</th>\n",
       "      <th>loan_grade</th>\n",
       "      <th>cb_person_default_on_file</th>\n",
       "    </tr>\n",
       "  </thead>\n",
       "  <tbody>\n",
       "    <tr>\n",
       "      <th>0</th>\n",
       "      <td>RENT</td>\n",
       "      <td>EDUCATION</td>\n",
       "      <td>B</td>\n",
       "      <td>N</td>\n",
       "    </tr>\n",
       "    <tr>\n",
       "      <th>1</th>\n",
       "      <td>OWN</td>\n",
       "      <td>MEDICAL</td>\n",
       "      <td>C</td>\n",
       "      <td>N</td>\n",
       "    </tr>\n",
       "    <tr>\n",
       "      <th>2</th>\n",
       "      <td>OWN</td>\n",
       "      <td>PERSONAL</td>\n",
       "      <td>A</td>\n",
       "      <td>N</td>\n",
       "    </tr>\n",
       "    <tr>\n",
       "      <th>3</th>\n",
       "      <td>RENT</td>\n",
       "      <td>VENTURE</td>\n",
       "      <td>B</td>\n",
       "      <td>N</td>\n",
       "    </tr>\n",
       "    <tr>\n",
       "      <th>4</th>\n",
       "      <td>RENT</td>\n",
       "      <td>MEDICAL</td>\n",
       "      <td>A</td>\n",
       "      <td>N</td>\n",
       "    </tr>\n",
       "    <tr>\n",
       "      <th>...</th>\n",
       "      <td>...</td>\n",
       "      <td>...</td>\n",
       "      <td>...</td>\n",
       "      <td>...</td>\n",
       "    </tr>\n",
       "    <tr>\n",
       "      <th>58640</th>\n",
       "      <td>MORTGAGE</td>\n",
       "      <td>EDUCATION</td>\n",
       "      <td>D</td>\n",
       "      <td>Y</td>\n",
       "    </tr>\n",
       "    <tr>\n",
       "      <th>58641</th>\n",
       "      <td>RENT</td>\n",
       "      <td>MEDICAL</td>\n",
       "      <td>C</td>\n",
       "      <td>N</td>\n",
       "    </tr>\n",
       "    <tr>\n",
       "      <th>58642</th>\n",
       "      <td>RENT</td>\n",
       "      <td>EDUCATION</td>\n",
       "      <td>D</td>\n",
       "      <td>N</td>\n",
       "    </tr>\n",
       "    <tr>\n",
       "      <th>58643</th>\n",
       "      <td>RENT</td>\n",
       "      <td>EDUCATION</td>\n",
       "      <td>A</td>\n",
       "      <td>N</td>\n",
       "    </tr>\n",
       "    <tr>\n",
       "      <th>58644</th>\n",
       "      <td>MORTGAGE</td>\n",
       "      <td>VENTURE</td>\n",
       "      <td>B</td>\n",
       "      <td>N</td>\n",
       "    </tr>\n",
       "  </tbody>\n",
       "</table>\n",
       "<p>58645 rows × 4 columns</p>\n",
       "</div>"
      ],
      "text/plain": [
       "      person_home_ownership loan_intent loan_grade cb_person_default_on_file\n",
       "0                      RENT   EDUCATION          B                         N\n",
       "1                       OWN     MEDICAL          C                         N\n",
       "2                       OWN    PERSONAL          A                         N\n",
       "3                      RENT     VENTURE          B                         N\n",
       "4                      RENT     MEDICAL          A                         N\n",
       "...                     ...         ...        ...                       ...\n",
       "58640              MORTGAGE   EDUCATION          D                         Y\n",
       "58641                  RENT     MEDICAL          C                         N\n",
       "58642                  RENT   EDUCATION          D                         N\n",
       "58643                  RENT   EDUCATION          A                         N\n",
       "58644              MORTGAGE     VENTURE          B                         N\n",
       "\n",
       "[58645 rows x 4 columns]"
      ]
     },
     "execution_count": 8,
     "metadata": {},
     "output_type": "execute_result"
    }
   ],
   "source": [
    "train_data.select_dtypes('object')"
   ]
  },
  {
   "cell_type": "markdown",
   "id": "194e5bd4",
   "metadata": {
    "papermill": {
     "duration": 0.010822,
     "end_time": "2024-10-06T11:15:06.133869",
     "exception": false,
     "start_time": "2024-10-06T11:15:06.123047",
     "status": "completed"
    },
    "tags": []
   },
   "source": [
    "**DATA PREPROCESSING**"
   ]
  },
  {
   "cell_type": "code",
   "execution_count": 9,
   "id": "3999a433",
   "metadata": {
    "execution": {
     "iopub.execute_input": "2024-10-06T11:15:06.157513Z",
     "iopub.status.busy": "2024-10-06T11:15:06.157169Z",
     "iopub.status.idle": "2024-10-06T11:15:06.165949Z",
     "shell.execute_reply": "2024-10-06T11:15:06.165089Z"
    },
    "papermill": {
     "duration": 0.022759,
     "end_time": "2024-10-06T11:15:06.168184",
     "exception": false,
     "start_time": "2024-10-06T11:15:06.145425",
     "status": "completed"
    },
    "tags": []
   },
   "outputs": [],
   "source": [
    "x=train_data.drop('loan_status',axis=1)\n",
    "y=train_data['loan_status']"
   ]
  },
  {
   "cell_type": "code",
   "execution_count": 10,
   "id": "a52e8ac4",
   "metadata": {
    "execution": {
     "iopub.execute_input": "2024-10-06T11:15:06.192562Z",
     "iopub.status.busy": "2024-10-06T11:15:06.192275Z",
     "iopub.status.idle": "2024-10-06T11:15:06.255858Z",
     "shell.execute_reply": "2024-10-06T11:15:06.255157Z"
    },
    "papermill": {
     "duration": 0.077691,
     "end_time": "2024-10-06T11:15:06.257722",
     "exception": false,
     "start_time": "2024-10-06T11:15:06.180031",
     "status": "completed"
    },
    "tags": []
   },
   "outputs": [],
   "source": [
    "le=LabelEncoder()\n",
    "for col in x.select_dtypes('object').columns:\n",
    "    x[col]=le.fit_transform(x[col])"
   ]
  },
  {
   "cell_type": "markdown",
   "id": "42bdab03",
   "metadata": {
    "papermill": {
     "duration": 0.010876,
     "end_time": "2024-10-06T11:15:06.279863",
     "exception": false,
     "start_time": "2024-10-06T11:15:06.268987",
     "status": "completed"
    },
    "tags": []
   },
   "source": [
    "**SPLITTING DATA**"
   ]
  },
  {
   "cell_type": "code",
   "execution_count": 11,
   "id": "252ea4ff",
   "metadata": {
    "execution": {
     "iopub.execute_input": "2024-10-06T11:15:06.303583Z",
     "iopub.status.busy": "2024-10-06T11:15:06.303284Z",
     "iopub.status.idle": "2024-10-06T11:15:06.319151Z",
     "shell.execute_reply": "2024-10-06T11:15:06.318185Z"
    },
    "papermill": {
     "duration": 0.030164,
     "end_time": "2024-10-06T11:15:06.321111",
     "exception": false,
     "start_time": "2024-10-06T11:15:06.290947",
     "status": "completed"
    },
    "tags": []
   },
   "outputs": [],
   "source": [
    "x_train,x_test,y_train,y_test=train_test_split(x,y,test_size=0.2,random_state=42)"
   ]
  },
  {
   "cell_type": "markdown",
   "id": "080fb1f2",
   "metadata": {
    "papermill": {
     "duration": 0.010841,
     "end_time": "2024-10-06T11:15:06.343029",
     "exception": false,
     "start_time": "2024-10-06T11:15:06.332188",
     "status": "completed"
    },
    "tags": []
   },
   "source": [
    "**TRAINING ALL MODELS**"
   ]
  },
  {
   "cell_type": "code",
   "execution_count": 12,
   "id": "17535f34",
   "metadata": {
    "execution": {
     "iopub.execute_input": "2024-10-06T11:15:06.366087Z",
     "iopub.status.busy": "2024-10-06T11:15:06.365808Z",
     "iopub.status.idle": "2024-10-06T11:15:06.370494Z",
     "shell.execute_reply": "2024-10-06T11:15:06.369654Z"
    },
    "papermill": {
     "duration": 0.018429,
     "end_time": "2024-10-06T11:15:06.372354",
     "exception": false,
     "start_time": "2024-10-06T11:15:06.353925",
     "status": "completed"
    },
    "tags": []
   },
   "outputs": [],
   "source": [
    "models = {\n",
    "    'Linear_Regression':LinearRegression(),\n",
    "    'KNN':KNeighborsRegressor(),\n",
    "    'DecisionTree':DecisionTreeRegressor(),\n",
    "    'Random Forest': RandomForestClassifier(),\n",
    "    'XGB':XGBRegressor(),\n",
    "    'SVM':SVC()\n",
    "}"
   ]
  },
  {
   "cell_type": "code",
   "execution_count": 13,
   "id": "aa2305a9",
   "metadata": {
    "execution": {
     "iopub.execute_input": "2024-10-06T11:15:06.395383Z",
     "iopub.status.busy": "2024-10-06T11:15:06.395106Z",
     "iopub.status.idle": "2024-10-06T11:15:54.215980Z",
     "shell.execute_reply": "2024-10-06T11:15:54.214819Z"
    },
    "papermill": {
     "duration": 47.848088,
     "end_time": "2024-10-06T11:15:54.231597",
     "exception": false,
     "start_time": "2024-10-06T11:15:06.383509",
     "status": "completed"
    },
    "tags": []
   },
   "outputs": [
    {
     "name": "stdout",
     "output_type": "stream",
     "text": [
      "               Model  Accuracy  Precision    Recall  F1-Score\n",
      "0  Linear_Regression  0.889249   0.881539  0.889249  0.864612\n",
      "1                KNN  0.893597   0.885885  0.893597  0.888510\n",
      "2       DecisionTree  0.912610   0.914018  0.912610  0.913274\n",
      "3      Random Forest  0.949783   0.948664  0.949783  0.946901\n",
      "4                XGB  0.952767   0.951642  0.952767  0.950415\n",
      "5                SVM  0.860005   0.739609  0.860005  0.795276\n"
     ]
    }
   ],
   "source": [
    "results = {'Model': [], 'Accuracy': [], 'Precision': [], 'Recall': [], 'F1-Score': []}\n",
    "\n",
    "\n",
    "for i in models:\n",
    "    obj = models[i]\n",
    "    obj.fit(x_train, y_train)\n",
    "    obj_pred = obj.predict(x_test)\n",
    "\n",
    " \n",
    "    accuracy = accuracy_score(y_test, obj_pred>0.5)\n",
    "    precision = precision_score(y_test, obj_pred>0.5,average='weighted')\n",
    "    recall = recall_score(y_test, obj_pred>0.5,average='weighted')\n",
    "    f1 = f1_score(y_test, obj_pred>0.5,average='weighted')\n",
    "\n",
    "  \n",
    "    results['Model'].append(i)\n",
    "    results['Accuracy'].append(accuracy)\n",
    "    results['Precision'].append(precision)\n",
    "    results['Recall'].append(recall)\n",
    "    results['F1-Score'].append(f1)\n",
    "\n",
    "\n",
    "results_df = pd.DataFrame(results)\n",
    "\n",
    "\n",
    "print(results_df)"
   ]
  },
  {
   "cell_type": "code",
   "execution_count": 14,
   "id": "4df1b412",
   "metadata": {
    "execution": {
     "iopub.execute_input": "2024-10-06T11:15:54.261140Z",
     "iopub.status.busy": "2024-10-06T11:15:54.260371Z",
     "iopub.status.idle": "2024-10-06T11:16:01.187935Z",
     "shell.execute_reply": "2024-10-06T11:16:01.186811Z"
    },
    "papermill": {
     "duration": 6.944324,
     "end_time": "2024-10-06T11:16:01.189986",
     "exception": false,
     "start_time": "2024-10-06T11:15:54.245662",
     "status": "completed"
    },
    "tags": []
   },
   "outputs": [
    {
     "name": "stdout",
     "output_type": "stream",
     "text": [
      "Classification Report :               precision    recall  f1-score   support\n",
      "\n",
      "           0       0.99      0.95      0.97     10480\n",
      "           1       0.70      0.92      0.79      1249\n",
      "\n",
      "    accuracy                           0.95     11729\n",
      "   macro avg       0.84      0.93      0.88     11729\n",
      "weighted avg       0.96      0.95      0.95     11729\n",
      "\n"
     ]
    }
   ],
   "source": [
    "model =RandomForestClassifier()\n",
    "model.fit(x_train,y_train)\n",
    "y_pred=model.predict(x_test)\n",
    "print(\"Classification Report :\" , classification_report(y_pred,y_test))"
   ]
  },
  {
   "cell_type": "markdown",
   "id": "ff24ddb2",
   "metadata": {
    "papermill": {
     "duration": 0.011532,
     "end_time": "2024-10-06T11:16:01.213543",
     "exception": false,
     "start_time": "2024-10-06T11:16:01.202011",
     "status": "completed"
    },
    "tags": []
   },
   "source": [
    "**TESTING RF MODEL**"
   ]
  },
  {
   "cell_type": "code",
   "execution_count": 15,
   "id": "45a080df",
   "metadata": {
    "execution": {
     "iopub.execute_input": "2024-10-06T11:16:01.237666Z",
     "iopub.status.busy": "2024-10-06T11:16:01.237340Z",
     "iopub.status.idle": "2024-10-06T11:16:01.254269Z",
     "shell.execute_reply": "2024-10-06T11:16:01.253303Z"
    },
    "papermill": {
     "duration": 0.031563,
     "end_time": "2024-10-06T11:16:01.256427",
     "exception": false,
     "start_time": "2024-10-06T11:16:01.224864",
     "status": "completed"
    },
    "tags": []
   },
   "outputs": [
    {
     "data": {
      "text/html": [
       "<div>\n",
       "<style scoped>\n",
       "    .dataframe tbody tr th:only-of-type {\n",
       "        vertical-align: middle;\n",
       "    }\n",
       "\n",
       "    .dataframe tbody tr th {\n",
       "        vertical-align: top;\n",
       "    }\n",
       "\n",
       "    .dataframe thead th {\n",
       "        text-align: right;\n",
       "    }\n",
       "</style>\n",
       "<table border=\"1\" class=\"dataframe\">\n",
       "  <thead>\n",
       "    <tr style=\"text-align: right;\">\n",
       "      <th></th>\n",
       "      <th>id</th>\n",
       "      <th>person_age</th>\n",
       "      <th>person_income</th>\n",
       "      <th>person_home_ownership</th>\n",
       "      <th>person_emp_length</th>\n",
       "      <th>loan_intent</th>\n",
       "      <th>loan_grade</th>\n",
       "      <th>loan_amnt</th>\n",
       "      <th>loan_int_rate</th>\n",
       "      <th>loan_percent_income</th>\n",
       "      <th>cb_person_default_on_file</th>\n",
       "      <th>cb_person_cred_hist_length</th>\n",
       "    </tr>\n",
       "  </thead>\n",
       "  <tbody>\n",
       "    <tr>\n",
       "      <th>0</th>\n",
       "      <td>58645</td>\n",
       "      <td>23</td>\n",
       "      <td>69000</td>\n",
       "      <td>RENT</td>\n",
       "      <td>3.0</td>\n",
       "      <td>HOMEIMPROVEMENT</td>\n",
       "      <td>F</td>\n",
       "      <td>25000</td>\n",
       "      <td>15.76</td>\n",
       "      <td>0.36</td>\n",
       "      <td>N</td>\n",
       "      <td>2</td>\n",
       "    </tr>\n",
       "    <tr>\n",
       "      <th>1</th>\n",
       "      <td>58646</td>\n",
       "      <td>26</td>\n",
       "      <td>96000</td>\n",
       "      <td>MORTGAGE</td>\n",
       "      <td>6.0</td>\n",
       "      <td>PERSONAL</td>\n",
       "      <td>C</td>\n",
       "      <td>10000</td>\n",
       "      <td>12.68</td>\n",
       "      <td>0.10</td>\n",
       "      <td>Y</td>\n",
       "      <td>4</td>\n",
       "    </tr>\n",
       "    <tr>\n",
       "      <th>2</th>\n",
       "      <td>58647</td>\n",
       "      <td>26</td>\n",
       "      <td>30000</td>\n",
       "      <td>RENT</td>\n",
       "      <td>5.0</td>\n",
       "      <td>VENTURE</td>\n",
       "      <td>E</td>\n",
       "      <td>4000</td>\n",
       "      <td>17.19</td>\n",
       "      <td>0.13</td>\n",
       "      <td>Y</td>\n",
       "      <td>2</td>\n",
       "    </tr>\n",
       "    <tr>\n",
       "      <th>3</th>\n",
       "      <td>58648</td>\n",
       "      <td>33</td>\n",
       "      <td>50000</td>\n",
       "      <td>RENT</td>\n",
       "      <td>4.0</td>\n",
       "      <td>DEBTCONSOLIDATION</td>\n",
       "      <td>A</td>\n",
       "      <td>7000</td>\n",
       "      <td>8.90</td>\n",
       "      <td>0.14</td>\n",
       "      <td>N</td>\n",
       "      <td>7</td>\n",
       "    </tr>\n",
       "    <tr>\n",
       "      <th>4</th>\n",
       "      <td>58649</td>\n",
       "      <td>26</td>\n",
       "      <td>102000</td>\n",
       "      <td>MORTGAGE</td>\n",
       "      <td>8.0</td>\n",
       "      <td>HOMEIMPROVEMENT</td>\n",
       "      <td>D</td>\n",
       "      <td>15000</td>\n",
       "      <td>16.32</td>\n",
       "      <td>0.15</td>\n",
       "      <td>Y</td>\n",
       "      <td>4</td>\n",
       "    </tr>\n",
       "  </tbody>\n",
       "</table>\n",
       "</div>"
      ],
      "text/plain": [
       "      id  person_age  person_income person_home_ownership  person_emp_length  \\\n",
       "0  58645          23          69000                  RENT                3.0   \n",
       "1  58646          26          96000              MORTGAGE                6.0   \n",
       "2  58647          26          30000                  RENT                5.0   \n",
       "3  58648          33          50000                  RENT                4.0   \n",
       "4  58649          26         102000              MORTGAGE                8.0   \n",
       "\n",
       "         loan_intent loan_grade  loan_amnt  loan_int_rate  \\\n",
       "0    HOMEIMPROVEMENT          F      25000          15.76   \n",
       "1           PERSONAL          C      10000          12.68   \n",
       "2            VENTURE          E       4000          17.19   \n",
       "3  DEBTCONSOLIDATION          A       7000           8.90   \n",
       "4    HOMEIMPROVEMENT          D      15000          16.32   \n",
       "\n",
       "   loan_percent_income cb_person_default_on_file  cb_person_cred_hist_length  \n",
       "0                 0.36                         N                           2  \n",
       "1                 0.10                         Y                           4  \n",
       "2                 0.13                         Y                           2  \n",
       "3                 0.14                         N                           7  \n",
       "4                 0.15                         Y                           4  "
      ]
     },
     "execution_count": 15,
     "metadata": {},
     "output_type": "execute_result"
    }
   ],
   "source": [
    "test_data.head()"
   ]
  },
  {
   "cell_type": "code",
   "execution_count": 16,
   "id": "2f82d145",
   "metadata": {
    "execution": {
     "iopub.execute_input": "2024-10-06T11:16:01.283910Z",
     "iopub.status.busy": "2024-10-06T11:16:01.283382Z",
     "iopub.status.idle": "2024-10-06T11:16:01.310133Z",
     "shell.execute_reply": "2024-10-06T11:16:01.309113Z"
    },
    "papermill": {
     "duration": 0.043212,
     "end_time": "2024-10-06T11:16:01.312345",
     "exception": false,
     "start_time": "2024-10-06T11:16:01.269133",
     "status": "completed"
    },
    "tags": []
   },
   "outputs": [
    {
     "name": "stdout",
     "output_type": "stream",
     "text": [
      "<class 'pandas.core.frame.DataFrame'>\n",
      "RangeIndex: 39098 entries, 0 to 39097\n",
      "Data columns (total 12 columns):\n",
      " #   Column                      Non-Null Count  Dtype  \n",
      "---  ------                      --------------  -----  \n",
      " 0   id                          39098 non-null  int64  \n",
      " 1   person_age                  39098 non-null  int64  \n",
      " 2   person_income               39098 non-null  int64  \n",
      " 3   person_home_ownership       39098 non-null  object \n",
      " 4   person_emp_length           39098 non-null  float64\n",
      " 5   loan_intent                 39098 non-null  object \n",
      " 6   loan_grade                  39098 non-null  object \n",
      " 7   loan_amnt                   39098 non-null  int64  \n",
      " 8   loan_int_rate               39098 non-null  float64\n",
      " 9   loan_percent_income         39098 non-null  float64\n",
      " 10  cb_person_default_on_file   39098 non-null  object \n",
      " 11  cb_person_cred_hist_length  39098 non-null  int64  \n",
      "dtypes: float64(3), int64(5), object(4)\n",
      "memory usage: 3.6+ MB\n"
     ]
    }
   ],
   "source": [
    "test_data.info()"
   ]
  },
  {
   "cell_type": "code",
   "execution_count": 17,
   "id": "be1e43fb",
   "metadata": {
    "execution": {
     "iopub.execute_input": "2024-10-06T11:16:01.337549Z",
     "iopub.status.busy": "2024-10-06T11:16:01.337292Z",
     "iopub.status.idle": "2024-10-06T11:16:01.359624Z",
     "shell.execute_reply": "2024-10-06T11:16:01.358759Z"
    },
    "papermill": {
     "duration": 0.036773,
     "end_time": "2024-10-06T11:16:01.361524",
     "exception": false,
     "start_time": "2024-10-06T11:16:01.324751",
     "status": "completed"
    },
    "tags": []
   },
   "outputs": [
    {
     "data": {
      "text/plain": [
       "id                            0\n",
       "person_age                    0\n",
       "person_income                 0\n",
       "person_home_ownership         0\n",
       "person_emp_length             0\n",
       "loan_intent                   0\n",
       "loan_grade                    0\n",
       "loan_amnt                     0\n",
       "loan_int_rate                 0\n",
       "loan_percent_income           0\n",
       "cb_person_default_on_file     0\n",
       "cb_person_cred_hist_length    0\n",
       "dtype: int64"
      ]
     },
     "execution_count": 17,
     "metadata": {},
     "output_type": "execute_result"
    }
   ],
   "source": [
    "test_data.isna().sum()"
   ]
  },
  {
   "cell_type": "code",
   "execution_count": 18,
   "id": "288e2d8e",
   "metadata": {
    "execution": {
     "iopub.execute_input": "2024-10-06T11:16:01.386222Z",
     "iopub.status.busy": "2024-10-06T11:16:01.385963Z",
     "iopub.status.idle": "2024-10-06T11:16:01.428136Z",
     "shell.execute_reply": "2024-10-06T11:16:01.427228Z"
    },
    "papermill": {
     "duration": 0.056791,
     "end_time": "2024-10-06T11:16:01.430202",
     "exception": false,
     "start_time": "2024-10-06T11:16:01.373411",
     "status": "completed"
    },
    "tags": []
   },
   "outputs": [],
   "source": [
    "for col in test_data.select_dtypes('object').columns:\n",
    "    test_data[col]=le.fit_transform(test_data[col])"
   ]
  },
  {
   "cell_type": "code",
   "execution_count": 19,
   "id": "6cde8a78",
   "metadata": {
    "execution": {
     "iopub.execute_input": "2024-10-06T11:16:01.454683Z",
     "iopub.status.busy": "2024-10-06T11:16:01.454416Z",
     "iopub.status.idle": "2024-10-06T11:16:01.459536Z",
     "shell.execute_reply": "2024-10-06T11:16:01.458829Z"
    },
    "papermill": {
     "duration": 0.01942,
     "end_time": "2024-10-06T11:16:01.461493",
     "exception": false,
     "start_time": "2024-10-06T11:16:01.442073",
     "status": "completed"
    },
    "tags": []
   },
   "outputs": [],
   "source": [
    "x_test=test_data.drop(\"id\",axis=1)"
   ]
  },
  {
   "cell_type": "code",
   "execution_count": 20,
   "id": "a59572ea",
   "metadata": {
    "execution": {
     "iopub.execute_input": "2024-10-06T11:16:01.486123Z",
     "iopub.status.busy": "2024-10-06T11:16:01.485863Z",
     "iopub.status.idle": "2024-10-06T11:16:02.702933Z",
     "shell.execute_reply": "2024-10-06T11:16:02.701981Z"
    },
    "papermill": {
     "duration": 1.231933,
     "end_time": "2024-10-06T11:16:02.705326",
     "exception": false,
     "start_time": "2024-10-06T11:16:01.473393",
     "status": "completed"
    },
    "tags": []
   },
   "outputs": [],
   "source": [
    "test_predictions = model.predict(x_test)\n",
    "\n",
    "test_pred_proba = model.predict_proba(x_test)[:, 1]"
   ]
  },
  {
   "cell_type": "code",
   "execution_count": 21,
   "id": "575eb7c2",
   "metadata": {
    "execution": {
     "iopub.execute_input": "2024-10-06T11:16:02.731544Z",
     "iopub.status.busy": "2024-10-06T11:16:02.731161Z",
     "iopub.status.idle": "2024-10-06T11:16:02.736599Z",
     "shell.execute_reply": "2024-10-06T11:16:02.735798Z"
    },
    "papermill": {
     "duration": 0.02049,
     "end_time": "2024-10-06T11:16:02.738678",
     "exception": false,
     "start_time": "2024-10-06T11:16:02.718188",
     "status": "completed"
    },
    "tags": []
   },
   "outputs": [
    {
     "name": "stdout",
     "output_type": "stream",
     "text": [
      "[0.96 0.01 0.65 ... 0.01 0.32 0.97]\n"
     ]
    }
   ],
   "source": [
    "print(test_pred_proba)"
   ]
  },
  {
   "cell_type": "code",
   "execution_count": 22,
   "id": "ab15950b",
   "metadata": {
    "execution": {
     "iopub.execute_input": "2024-10-06T11:16:02.763944Z",
     "iopub.status.busy": "2024-10-06T11:16:02.763668Z",
     "iopub.status.idle": "2024-10-06T11:16:02.787467Z",
     "shell.execute_reply": "2024-10-06T11:16:02.786546Z"
    },
    "papermill": {
     "duration": 0.038671,
     "end_time": "2024-10-06T11:16:02.789575",
     "exception": false,
     "start_time": "2024-10-06T11:16:02.750904",
     "status": "completed"
    },
    "tags": []
   },
   "outputs": [
    {
     "data": {
      "text/html": [
       "<div>\n",
       "<style scoped>\n",
       "    .dataframe tbody tr th:only-of-type {\n",
       "        vertical-align: middle;\n",
       "    }\n",
       "\n",
       "    .dataframe tbody tr th {\n",
       "        vertical-align: top;\n",
       "    }\n",
       "\n",
       "    .dataframe thead th {\n",
       "        text-align: right;\n",
       "    }\n",
       "</style>\n",
       "<table border=\"1\" class=\"dataframe\">\n",
       "  <thead>\n",
       "    <tr style=\"text-align: right;\">\n",
       "      <th></th>\n",
       "      <th>id</th>\n",
       "      <th>loan_status</th>\n",
       "    </tr>\n",
       "  </thead>\n",
       "  <tbody>\n",
       "    <tr>\n",
       "      <th>0</th>\n",
       "      <td>58645</td>\n",
       "      <td>0.5</td>\n",
       "    </tr>\n",
       "    <tr>\n",
       "      <th>1</th>\n",
       "      <td>58646</td>\n",
       "      <td>0.5</td>\n",
       "    </tr>\n",
       "    <tr>\n",
       "      <th>2</th>\n",
       "      <td>58647</td>\n",
       "      <td>0.5</td>\n",
       "    </tr>\n",
       "    <tr>\n",
       "      <th>3</th>\n",
       "      <td>58648</td>\n",
       "      <td>0.5</td>\n",
       "    </tr>\n",
       "    <tr>\n",
       "      <th>4</th>\n",
       "      <td>58649</td>\n",
       "      <td>0.5</td>\n",
       "    </tr>\n",
       "  </tbody>\n",
       "</table>\n",
       "</div>"
      ],
      "text/plain": [
       "      id  loan_status\n",
       "0  58645          0.5\n",
       "1  58646          0.5\n",
       "2  58647          0.5\n",
       "3  58648          0.5\n",
       "4  58649          0.5"
      ]
     },
     "execution_count": 22,
     "metadata": {},
     "output_type": "execute_result"
    }
   ],
   "source": [
    "submission=pd.read_csv(r'/kaggle/input/playground-series-s4e10/sample_submission.csv')\n",
    "submission.head()"
   ]
  },
  {
   "cell_type": "code",
   "execution_count": 23,
   "id": "05d2f107",
   "metadata": {
    "execution": {
     "iopub.execute_input": "2024-10-06T11:16:02.815062Z",
     "iopub.status.busy": "2024-10-06T11:16:02.814793Z",
     "iopub.status.idle": "2024-10-06T11:16:02.818966Z",
     "shell.execute_reply": "2024-10-06T11:16:02.818097Z"
    },
    "papermill": {
     "duration": 0.018992,
     "end_time": "2024-10-06T11:16:02.820866",
     "exception": false,
     "start_time": "2024-10-06T11:16:02.801874",
     "status": "completed"
    },
    "tags": []
   },
   "outputs": [],
   "source": [
    "submission['loan_status'] = test_pred_proba"
   ]
  },
  {
   "cell_type": "markdown",
   "id": "bd51b10a",
   "metadata": {
    "papermill": {
     "duration": 0.012338,
     "end_time": "2024-10-06T11:16:02.845583",
     "exception": false,
     "start_time": "2024-10-06T11:16:02.833245",
     "status": "completed"
    },
    "tags": []
   },
   "source": [
    "**SAVE FILE**"
   ]
  },
  {
   "cell_type": "code",
   "execution_count": 24,
   "id": "acddb30b",
   "metadata": {
    "execution": {
     "iopub.execute_input": "2024-10-06T11:16:02.871422Z",
     "iopub.status.busy": "2024-10-06T11:16:02.870938Z",
     "iopub.status.idle": "2024-10-06T11:16:02.942027Z",
     "shell.execute_reply": "2024-10-06T11:16:02.941033Z"
    },
    "papermill": {
     "duration": 0.086406,
     "end_time": "2024-10-06T11:16:02.944240",
     "exception": false,
     "start_time": "2024-10-06T11:16:02.857834",
     "status": "completed"
    },
    "tags": []
   },
   "outputs": [],
   "source": [
    "submission.to_csv('submission.csv', index=False)"
   ]
  },
  {
   "cell_type": "code",
   "execution_count": 25,
   "id": "1f0d9924",
   "metadata": {
    "execution": {
     "iopub.execute_input": "2024-10-06T11:16:02.969387Z",
     "iopub.status.busy": "2024-10-06T11:16:02.969102Z",
     "iopub.status.idle": "2024-10-06T11:16:02.980373Z",
     "shell.execute_reply": "2024-10-06T11:16:02.979556Z"
    },
    "papermill": {
     "duration": 0.026265,
     "end_time": "2024-10-06T11:16:02.982510",
     "exception": false,
     "start_time": "2024-10-06T11:16:02.956245",
     "status": "completed"
    },
    "tags": []
   },
   "outputs": [
    {
     "data": {
      "text/html": [
       "<div>\n",
       "<style scoped>\n",
       "    .dataframe tbody tr th:only-of-type {\n",
       "        vertical-align: middle;\n",
       "    }\n",
       "\n",
       "    .dataframe tbody tr th {\n",
       "        vertical-align: top;\n",
       "    }\n",
       "\n",
       "    .dataframe thead th {\n",
       "        text-align: right;\n",
       "    }\n",
       "</style>\n",
       "<table border=\"1\" class=\"dataframe\">\n",
       "  <thead>\n",
       "    <tr style=\"text-align: right;\">\n",
       "      <th></th>\n",
       "      <th>id</th>\n",
       "      <th>loan_status</th>\n",
       "    </tr>\n",
       "  </thead>\n",
       "  <tbody>\n",
       "    <tr>\n",
       "      <th>0</th>\n",
       "      <td>58645</td>\n",
       "      <td>0.96</td>\n",
       "    </tr>\n",
       "    <tr>\n",
       "      <th>1</th>\n",
       "      <td>58646</td>\n",
       "      <td>0.01</td>\n",
       "    </tr>\n",
       "    <tr>\n",
       "      <th>2</th>\n",
       "      <td>58647</td>\n",
       "      <td>0.65</td>\n",
       "    </tr>\n",
       "    <tr>\n",
       "      <th>3</th>\n",
       "      <td>58648</td>\n",
       "      <td>0.04</td>\n",
       "    </tr>\n",
       "    <tr>\n",
       "      <th>4</th>\n",
       "      <td>58649</td>\n",
       "      <td>0.08</td>\n",
       "    </tr>\n",
       "    <tr>\n",
       "      <th>...</th>\n",
       "      <td>...</td>\n",
       "      <td>...</td>\n",
       "    </tr>\n",
       "    <tr>\n",
       "      <th>39093</th>\n",
       "      <td>97738</td>\n",
       "      <td>0.03</td>\n",
       "    </tr>\n",
       "    <tr>\n",
       "      <th>39094</th>\n",
       "      <td>97739</td>\n",
       "      <td>0.00</td>\n",
       "    </tr>\n",
       "    <tr>\n",
       "      <th>39095</th>\n",
       "      <td>97740</td>\n",
       "      <td>0.01</td>\n",
       "    </tr>\n",
       "    <tr>\n",
       "      <th>39096</th>\n",
       "      <td>97741</td>\n",
       "      <td>0.32</td>\n",
       "    </tr>\n",
       "    <tr>\n",
       "      <th>39097</th>\n",
       "      <td>97742</td>\n",
       "      <td>0.97</td>\n",
       "    </tr>\n",
       "  </tbody>\n",
       "</table>\n",
       "<p>39098 rows × 2 columns</p>\n",
       "</div>"
      ],
      "text/plain": [
       "          id  loan_status\n",
       "0      58645         0.96\n",
       "1      58646         0.01\n",
       "2      58647         0.65\n",
       "3      58648         0.04\n",
       "4      58649         0.08\n",
       "...      ...          ...\n",
       "39093  97738         0.03\n",
       "39094  97739         0.00\n",
       "39095  97740         0.01\n",
       "39096  97741         0.32\n",
       "39097  97742         0.97\n",
       "\n",
       "[39098 rows x 2 columns]"
      ]
     },
     "execution_count": 25,
     "metadata": {},
     "output_type": "execute_result"
    }
   ],
   "source": [
    "submission"
   ]
  }
 ],
 "metadata": {
  "kaggle": {
   "accelerator": "nvidiaTeslaT4",
   "dataSources": [
    {
     "databundleVersionId": 9709193,
     "sourceId": 84894,
     "sourceType": "competition"
    }
   ],
   "dockerImageVersionId": 30787,
   "isGpuEnabled": true,
   "isInternetEnabled": true,
   "language": "python",
   "sourceType": "notebook"
  },
  "kernelspec": {
   "display_name": "Python 3",
   "language": "python",
   "name": "python3"
  },
  "language_info": {
   "codemirror_mode": {
    "name": "ipython",
    "version": 3
   },
   "file_extension": ".py",
   "mimetype": "text/x-python",
   "name": "python",
   "nbconvert_exporter": "python",
   "pygments_lexer": "ipython3",
   "version": "3.10.14"
  },
  "papermill": {
   "default_parameters": {},
   "duration": 67.62046,
   "end_time": "2024-10-06T11:16:03.614349",
   "environment_variables": {},
   "exception": null,
   "input_path": "__notebook__.ipynb",
   "output_path": "__notebook__.ipynb",
   "parameters": {},
   "start_time": "2024-10-06T11:14:55.993889",
   "version": "2.6.0"
  }
 },
 "nbformat": 4,
 "nbformat_minor": 5
}
